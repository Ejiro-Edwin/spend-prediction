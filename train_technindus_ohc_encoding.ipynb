{
 "cells": [
  {
   "cell_type": "code",
   "execution_count": 84,
   "metadata": {},
   "outputs": [],
   "source": [
    "import pandas as pd \n",
    "import numpy as np\n",
    "import matplotlib.pyplot as plt \n",
    "from sklearn.linear_model import LinearRegression \n",
    "from sklearn.model_selection import train_test_split \n",
    "from sklearn.metrics import accuracy_score \n",
    "from sklearn.model_selection import cross_val_score \n",
    "import sklearn.metrics"
   ]
  },
  {
   "cell_type": "code",
   "execution_count": 85,
   "metadata": {},
   "outputs": [],
   "source": [
    "test = pd.read_csv(\"test_technidus.csv\")\n",
    "train = pd.read_csv(\"train_technidus.csv\")"
   ]
  },
  {
   "cell_type": "code",
   "execution_count": 86,
   "metadata": {},
   "outputs": [],
   "source": [
    "train['BirthYear'] = train['BirthDate'].dt.year\n",
    "test['BirthYear'] = test['BirthDate'].dt.year\n",
    "train['Age'] = 2019 - train['BirthYear']\n",
    "test['Age'] = 2019 - test['BirthYear']"
   ]
  },
  {
   "cell_type": "code",
   "execution_count": 87,
   "metadata": {},
   "outputs": [
    {
     "data": {
      "text/plain": [
       "CustomerID              False\n",
       "Title                    True\n",
       "FirstName               False\n",
       "MiddleName               True\n",
       "LastName                False\n",
       "Suffix                   True\n",
       "AddressLine1            False\n",
       "AddressLine2             True\n",
       "City                    False\n",
       "StateProvinceName       False\n",
       "CountryRegionName       False\n",
       "PostalCode              False\n",
       "PhoneNumber             False\n",
       "BirthDate               False\n",
       "Education               False\n",
       "Occupation              False\n",
       "Gender                  False\n",
       "MaritalStatus           False\n",
       "HomeOwnerFlag           False\n",
       "NumberCarsOwned         False\n",
       "NumberChildrenAtHome    False\n",
       "TotalChildren           False\n",
       "YearlyIncome            False\n",
       "AveMonthSpend           False\n",
       "BikeBuyer               False\n",
       "BirthYear               False\n",
       "Age                     False\n",
       "dtype: bool"
      ]
     },
     "execution_count": 87,
     "metadata": {},
     "output_type": "execute_result"
    }
   ],
   "source": [
    "pd.isnull(train).any()\n"
   ]
  },
  {
   "cell_type": "code",
   "execution_count": 88,
   "metadata": {},
   "outputs": [],
   "source": [
    "def create_dummies(df, column_name):\n",
    "    dummies = pd.get_dummies(df[column_name],prefix=column_name)\n",
    "    df = pd.concat([df,dummies],axis=1)\n",
    "    return df"
   ]
  },
  {
   "cell_type": "code",
   "execution_count": 89,
   "metadata": {},
   "outputs": [],
   "source": [
    "for col in ['CountryRegionName', 'Education', \n",
    "          'Occupation', 'Gender', 'MaritalStatus', 'HomeOwnerFlag', \n",
    "          'BikeBuyer']:\n",
    "    train=create_dummies(train, col)\n",
    "    test=create_dummies(test, col)"
   ]
  },
  {
   "cell_type": "code",
   "execution_count": 90,
   "metadata": {},
   "outputs": [
    {
     "name": "stdout",
     "output_type": "stream",
     "text": [
      "28\n"
     ]
    }
   ],
   "source": [
    "columns= ['YearlyIncome', 'Age', \n",
    "          'CountryRegionName_Australia', 'CountryRegionName_Canada',\n",
    "          'CountryRegionName_France', 'CountryRegionName_Germany',\n",
    "          'CountryRegionName_United Kingdom', 'CountryRegionName_United States',\n",
    "          'Education_Bachelors ', 'Education_Graduate Degree',\n",
    "          'Education_High School', 'Education_Partial College',\n",
    "          'Education_Partial High School', 'Occupation_Clerical',\n",
    "          'Occupation_Management', 'Occupation_Manual', 'Occupation_Professional',\n",
    "          'Occupation_Skilled Manual', 'Gender_F', 'Gender_M', 'MaritalStatus_M',\n",
    "          'NumberCarsOwned', 'MaritalStatus_S', 'HomeOwnerFlag_0', 'HomeOwnerFlag_1',\n",
    "          'TotalChildren', 'BikeBuyer_0', 'BikeBuyer_1']\n",
    "print(len(columns))"
   ]
  },
  {
   "cell_type": "code",
   "execution_count": 91,
   "metadata": {},
   "outputs": [],
   "source": [
    "all_X = train[columns]\n",
    "all_y = train['AveMonthSpend']"
   ]
  },
  {
   "cell_type": "code",
   "execution_count": 92,
   "metadata": {},
   "outputs": [],
   "source": [
    "train_X, test_X, train_Y, test_Y = train_test_split(all_X, all_y, test_size=0.20,random_state=0)"
   ]
  },
  {
   "cell_type": "code",
   "execution_count": 93,
   "metadata": {},
   "outputs": [
    {
     "data": {
      "text/html": [
       "<div>\n",
       "<style scoped>\n",
       "    .dataframe tbody tr th:only-of-type {\n",
       "        vertical-align: middle;\n",
       "    }\n",
       "\n",
       "    .dataframe tbody tr th {\n",
       "        vertical-align: top;\n",
       "    }\n",
       "\n",
       "    .dataframe thead th {\n",
       "        text-align: right;\n",
       "    }\n",
       "</style>\n",
       "<table border=\"1\" class=\"dataframe\">\n",
       "  <thead>\n",
       "    <tr style=\"text-align: right;\">\n",
       "      <th></th>\n",
       "      <th>YearlyIncome</th>\n",
       "      <th>Age</th>\n",
       "      <th>AveMonthSpend</th>\n",
       "    </tr>\n",
       "  </thead>\n",
       "  <tbody>\n",
       "    <tr>\n",
       "      <th>YearlyIncome</th>\n",
       "      <td>1.000000</td>\n",
       "      <td>0.186889</td>\n",
       "      <td>0.619057</td>\n",
       "    </tr>\n",
       "    <tr>\n",
       "      <th>Age</th>\n",
       "      <td>0.186889</td>\n",
       "      <td>1.000000</td>\n",
       "      <td>0.028765</td>\n",
       "    </tr>\n",
       "    <tr>\n",
       "      <th>AveMonthSpend</th>\n",
       "      <td>0.619057</td>\n",
       "      <td>0.028765</td>\n",
       "      <td>1.000000</td>\n",
       "    </tr>\n",
       "  </tbody>\n",
       "</table>\n",
       "</div>"
      ],
      "text/plain": [
       "               YearlyIncome       Age  AveMonthSpend\n",
       "YearlyIncome       1.000000  0.186889       0.619057\n",
       "Age                0.186889  1.000000       0.028765\n",
       "AveMonthSpend      0.619057  0.028765       1.000000"
      ]
     },
     "execution_count": 93,
     "metadata": {},
     "output_type": "execute_result"
    }
   ],
   "source": [
    "train[[\"YearlyIncome\", \"Age\", \"AveMonthSpend\"]].corr()\n",
    "## Positive correlation between yealyIncome and AveMonthSpend"
   ]
  },
  {
   "cell_type": "code",
   "execution_count": 94,
   "metadata": {},
   "outputs": [
    {
     "data": {
      "image/png": "[encoded data removed]",
      "text/plain": [
       "<matplotlib.figure.Figure at 0x192f5d94d30>"
      ]
     },
     "metadata": {},
     "output_type": "display_data"
    }
   ],
   "source": [
    "cols=[\"YearlyIncome\", \"Age\", \"AveMonthSpend\"]\n",
    "plt.matshow(train[[\"YearlyIncome\", \"Age\", \"AveMonthSpend\"]].corr())\n",
    "plt.xticks(range(len(train.columns)), train.columns)\n",
    "plt.yticks(range(len(train.columns)), train.columns)\n",
    "plt.colorbar()\n",
    "#corr.style.background_gradient(cmap='coolwarm')\n",
    "plt.show()"
   ]
  },
  {
   "cell_type": "code",
   "execution_count": 95,
   "metadata": {},
   "outputs": [],
   "source": [
    "model=LinearRegression()"
   ]
  },
  {
   "cell_type": "code",
   "execution_count": 96,
   "metadata": {},
   "outputs": [
    {
     "data": {
      "text/plain": [
       "LinearRegression(copy_X=True, fit_intercept=True, n_jobs=1, normalize=False)"
      ]
     },
     "execution_count": 96,
     "metadata": {},
     "output_type": "execute_result"
    }
   ],
   "source": [
    "model.fit(train_X,train_Y)"
   ]
  },
  {
   "cell_type": "code",
   "execution_count": 97,
   "metadata": {},
   "outputs": [
    {
     "data": {
      "text/plain": [
       "0.8522814994492804"
      ]
     },
     "execution_count": 97,
     "metadata": {},
     "output_type": "execute_result"
    }
   ],
   "source": [
    "model.score(train_X,train_Y)"
   ]
  },
  {
   "cell_type": "code",
   "execution_count": 98,
   "metadata": {},
   "outputs": [
    {
     "data": {
      "text/plain": [
       "array([ 3.14336665e-04, -6.55180525e-01, -1.18538639e+00, -5.50873256e-01,\n",
       "        4.15170315e-01,  1.79005893e+00,  3.04730169e+00, -3.51627128e+00,\n",
       "        1.57449996e+00, -5.46507499e+00,  1.27916487e+00,  2.26705100e+00,\n",
       "        3.44359148e-01,  1.93964479e+00, -4.75928480e+00,  3.85558447e+00,\n",
       "       -6.15160945e-01, -4.20783521e-01, -1.35358204e+01,  1.35358204e+01,\n",
       "        4.49409357e+00,  1.68289926e+00, -4.49409357e+00, -5.56521723e-01,\n",
       "        5.56521723e-01,  7.42834209e+00, -3.38524564e+00,  3.38524564e+00])"
      ]
     },
     "execution_count": 98,
     "metadata": {},
     "output_type": "execute_result"
    }
   ],
   "source": [
    "model.coef_"
   ]
  },
  {
   "cell_type": "code",
   "execution_count": 114,
   "metadata": {},
   "outputs": [
    {
     "data": {
      "text/plain": [
       "array([95.32011706, 55.79925733, 68.81794642, ..., 32.67857236,\n",
       "       38.39770291, 63.97829109])"
      ]
     },
     "execution_count": 114,
     "metadata": {},
     "output_type": "execute_result"
    }
   ],
   "source": [
    "predictions = model.predict(test_X)\n",
    "test[\"AveMonthSpend\"]= model.predict(test[columns]).round()\n",
    "predictions\n"
   ]
  },
  {
   "cell_type": "code",
   "execution_count": 115,
   "metadata": {},
   "outputs": [],
   "source": [
    "test_pred=test[[\"CustomerID\",\"AveMonthSpend\"]]\n",
    "test_pred.to_csv(\"Pred_spend_linear_reg_ohc_encoding.csv\", index=False)"
   ]
  },
  {
   "cell_type": "code",
   "execution_count": 101,
   "metadata": {},
   "outputs": [
    {
     "data": {
      "text/html": [
       "<div>\n",
       "<style scoped>\n",
       "    .dataframe tbody tr th:only-of-type {\n",
       "        vertical-align: middle;\n",
       "    }\n",
       "\n",
       "    .dataframe tbody tr th {\n",
       "        vertical-align: top;\n",
       "    }\n",
       "\n",
       "    .dataframe thead th {\n",
       "        text-align: right;\n",
       "    }\n",
       "</style>\n",
       "<table border=\"1\" class=\"dataframe\">\n",
       "  <thead>\n",
       "    <tr style=\"text-align: right;\">\n",
       "      <th></th>\n",
       "      <th>CustomerID</th>\n",
       "      <th>YearlyIncome</th>\n",
       "      <th>Age</th>\n",
       "      <th>CountryRegionName_Australia</th>\n",
       "      <th>CountryRegionName_Canada</th>\n",
       "      <th>CountryRegionName_France</th>\n",
       "      <th>CountryRegionName_Germany</th>\n",
       "      <th>CountryRegionName_United Kingdom</th>\n",
       "      <th>CountryRegionName_United States</th>\n",
       "      <th>Education_Bachelors</th>\n",
       "      <th>...</th>\n",
       "      <th>NumberCarsOwned_4</th>\n",
       "      <th>TotalChildren_0</th>\n",
       "      <th>TotalChildren_1</th>\n",
       "      <th>TotalChildren_2</th>\n",
       "      <th>TotalChildren_3</th>\n",
       "      <th>TotalChildren_4</th>\n",
       "      <th>TotalChildren_5</th>\n",
       "      <th>BikeBuyer_0</th>\n",
       "      <th>BikeBuyer_1</th>\n",
       "      <th>predicted_spend</th>\n",
       "    </tr>\n",
       "  </thead>\n",
       "  <tbody>\n",
       "    <tr>\n",
       "      <th>count</th>\n",
       "      <td>1531.000000</td>\n",
       "      <td>1531.000000</td>\n",
       "      <td>1531.000000</td>\n",
       "      <td>1531.000000</td>\n",
       "      <td>1531.000000</td>\n",
       "      <td>1531.000000</td>\n",
       "      <td>1531.000000</td>\n",
       "      <td>1531.000000</td>\n",
       "      <td>1531.000000</td>\n",
       "      <td>1531.000000</td>\n",
       "      <td>...</td>\n",
       "      <td>1531.000000</td>\n",
       "      <td>1531.000000</td>\n",
       "      <td>1531.000000</td>\n",
       "      <td>1531.000000</td>\n",
       "      <td>1531.000000</td>\n",
       "      <td>1531.000000</td>\n",
       "      <td>1531.000000</td>\n",
       "      <td>1531.000000</td>\n",
       "      <td>1531.000000</td>\n",
       "      <td>1531.000000</td>\n",
       "    </tr>\n",
       "    <tr>\n",
       "      <th>mean</th>\n",
       "      <td>18879.270411</td>\n",
       "      <td>82330.466362</td>\n",
       "      <td>56.943174</td>\n",
       "      <td>0.206401</td>\n",
       "      <td>0.075767</td>\n",
       "      <td>0.095363</td>\n",
       "      <td>0.099282</td>\n",
       "      <td>0.100588</td>\n",
       "      <td>0.422600</td>\n",
       "      <td>0.317440</td>\n",
       "      <td>...</td>\n",
       "      <td>0.079033</td>\n",
       "      <td>0.232528</td>\n",
       "      <td>0.183540</td>\n",
       "      <td>0.167864</td>\n",
       "      <td>0.131940</td>\n",
       "      <td>0.163292</td>\n",
       "      <td>0.120836</td>\n",
       "      <td>0.494448</td>\n",
       "      <td>0.505552</td>\n",
       "      <td>76.090372</td>\n",
       "    </tr>\n",
       "    <tr>\n",
       "      <th>std</th>\n",
       "      <td>4792.188698</td>\n",
       "      <td>40764.741508</td>\n",
       "      <td>10.622767</td>\n",
       "      <td>0.404854</td>\n",
       "      <td>0.264712</td>\n",
       "      <td>0.293811</td>\n",
       "      <td>0.299137</td>\n",
       "      <td>0.300880</td>\n",
       "      <td>0.494134</td>\n",
       "      <td>0.465632</td>\n",
       "      <td>...</td>\n",
       "      <td>0.269879</td>\n",
       "      <td>0.422582</td>\n",
       "      <td>0.387235</td>\n",
       "      <td>0.373868</td>\n",
       "      <td>0.338536</td>\n",
       "      <td>0.369753</td>\n",
       "      <td>0.326043</td>\n",
       "      <td>0.500133</td>\n",
       "      <td>0.500133</td>\n",
       "      <td>27.902190</td>\n",
       "    </tr>\n",
       "    <tr>\n",
       "      <th>min</th>\n",
       "      <td>11001.000000</td>\n",
       "      <td>10227.000000</td>\n",
       "      <td>39.000000</td>\n",
       "      <td>0.000000</td>\n",
       "      <td>0.000000</td>\n",
       "      <td>0.000000</td>\n",
       "      <td>0.000000</td>\n",
       "      <td>0.000000</td>\n",
       "      <td>0.000000</td>\n",
       "      <td>0.000000</td>\n",
       "      <td>...</td>\n",
       "      <td>0.000000</td>\n",
       "      <td>0.000000</td>\n",
       "      <td>0.000000</td>\n",
       "      <td>0.000000</td>\n",
       "      <td>0.000000</td>\n",
       "      <td>0.000000</td>\n",
       "      <td>0.000000</td>\n",
       "      <td>0.000000</td>\n",
       "      <td>0.000000</td>\n",
       "      <td>5.871770</td>\n",
       "    </tr>\n",
       "    <tr>\n",
       "      <th>25%</th>\n",
       "      <td>14898.000000</td>\n",
       "      <td>50644.500000</td>\n",
       "      <td>49.000000</td>\n",
       "      <td>0.000000</td>\n",
       "      <td>0.000000</td>\n",
       "      <td>0.000000</td>\n",
       "      <td>0.000000</td>\n",
       "      <td>0.000000</td>\n",
       "      <td>0.000000</td>\n",
       "      <td>0.000000</td>\n",
       "      <td>...</td>\n",
       "      <td>0.000000</td>\n",
       "      <td>0.000000</td>\n",
       "      <td>0.000000</td>\n",
       "      <td>0.000000</td>\n",
       "      <td>0.000000</td>\n",
       "      <td>0.000000</td>\n",
       "      <td>0.000000</td>\n",
       "      <td>0.000000</td>\n",
       "      <td>0.000000</td>\n",
       "      <td>54.485945</td>\n",
       "    </tr>\n",
       "    <tr>\n",
       "      <th>50%</th>\n",
       "      <td>18562.000000</td>\n",
       "      <td>82671.000000</td>\n",
       "      <td>55.000000</td>\n",
       "      <td>0.000000</td>\n",
       "      <td>0.000000</td>\n",
       "      <td>0.000000</td>\n",
       "      <td>0.000000</td>\n",
       "      <td>0.000000</td>\n",
       "      <td>0.000000</td>\n",
       "      <td>0.000000</td>\n",
       "      <td>...</td>\n",
       "      <td>0.000000</td>\n",
       "      <td>0.000000</td>\n",
       "      <td>0.000000</td>\n",
       "      <td>0.000000</td>\n",
       "      <td>0.000000</td>\n",
       "      <td>0.000000</td>\n",
       "      <td>0.000000</td>\n",
       "      <td>0.000000</td>\n",
       "      <td>1.000000</td>\n",
       "      <td>74.465732</td>\n",
       "    </tr>\n",
       "    <tr>\n",
       "      <th>75%</th>\n",
       "      <td>22515.500000</td>\n",
       "      <td>110639.000000</td>\n",
       "      <td>63.000000</td>\n",
       "      <td>0.000000</td>\n",
       "      <td>0.000000</td>\n",
       "      <td>0.000000</td>\n",
       "      <td>0.000000</td>\n",
       "      <td>0.000000</td>\n",
       "      <td>1.000000</td>\n",
       "      <td>1.000000</td>\n",
       "      <td>...</td>\n",
       "      <td>0.000000</td>\n",
       "      <td>0.000000</td>\n",
       "      <td>0.000000</td>\n",
       "      <td>0.000000</td>\n",
       "      <td>0.000000</td>\n",
       "      <td>0.000000</td>\n",
       "      <td>0.000000</td>\n",
       "      <td>1.000000</td>\n",
       "      <td>1.000000</td>\n",
       "      <td>93.705281</td>\n",
       "    </tr>\n",
       "    <tr>\n",
       "      <th>max</th>\n",
       "      <td>29465.000000</td>\n",
       "      <td>192484.000000</td>\n",
       "      <td>106.000000</td>\n",
       "      <td>1.000000</td>\n",
       "      <td>1.000000</td>\n",
       "      <td>1.000000</td>\n",
       "      <td>1.000000</td>\n",
       "      <td>1.000000</td>\n",
       "      <td>1.000000</td>\n",
       "      <td>1.000000</td>\n",
       "      <td>...</td>\n",
       "      <td>1.000000</td>\n",
       "      <td>1.000000</td>\n",
       "      <td>1.000000</td>\n",
       "      <td>1.000000</td>\n",
       "      <td>1.000000</td>\n",
       "      <td>1.000000</td>\n",
       "      <td>1.000000</td>\n",
       "      <td>1.000000</td>\n",
       "      <td>1.000000</td>\n",
       "      <td>155.515917</td>\n",
       "    </tr>\n",
       "  </tbody>\n",
       "</table>\n",
       "<p>8 rows × 39 columns</p>\n",
       "</div>"
      ],
      "text/plain": [
       "         CustomerID   YearlyIncome          Age  CountryRegionName_Australia  \\\n",
       "count   1531.000000    1531.000000  1531.000000                  1531.000000   \n",
       "mean   18879.270411   82330.466362    56.943174                     0.206401   \n",
       "std     4792.188698   40764.741508    10.622767                     0.404854   \n",
       "min    11001.000000   10227.000000    39.000000                     0.000000   \n",
       "25%    14898.000000   50644.500000    49.000000                     0.000000   \n",
       "50%    18562.000000   82671.000000    55.000000                     0.000000   \n",
       "75%    22515.500000  110639.000000    63.000000                     0.000000   \n",
       "max    29465.000000  192484.000000   106.000000                     1.000000   \n",
       "\n",
       "       CountryRegionName_Canada  CountryRegionName_France  \\\n",
       "count               1531.000000               1531.000000   \n",
       "mean                   0.075767                  0.095363   \n",
       "std                    0.264712                  0.293811   \n",
       "min                    0.000000                  0.000000   \n",
       "25%                    0.000000                  0.000000   \n",
       "50%                    0.000000                  0.000000   \n",
       "75%                    0.000000                  0.000000   \n",
       "max                    1.000000                  1.000000   \n",
       "\n",
       "       CountryRegionName_Germany  CountryRegionName_United Kingdom  \\\n",
       "count                1531.000000                       1531.000000   \n",
       "mean                    0.099282                          0.100588   \n",
       "std                     0.299137                          0.300880   \n",
       "min                     0.000000                          0.000000   \n",
       "25%                     0.000000                          0.000000   \n",
       "50%                     0.000000                          0.000000   \n",
       "75%                     0.000000                          0.000000   \n",
       "max                     1.000000                          1.000000   \n",
       "\n",
       "       CountryRegionName_United States  Education_Bachelors        ...         \\\n",
       "count                      1531.000000           1531.000000       ...          \n",
       "mean                          0.422600              0.317440       ...          \n",
       "std                           0.494134              0.465632       ...          \n",
       "min                           0.000000              0.000000       ...          \n",
       "25%                           0.000000              0.000000       ...          \n",
       "50%                           0.000000              0.000000       ...          \n",
       "75%                           1.000000              1.000000       ...          \n",
       "max                           1.000000              1.000000       ...          \n",
       "\n",
       "       NumberCarsOwned_4  TotalChildren_0  TotalChildren_1  TotalChildren_2  \\\n",
       "count        1531.000000      1531.000000      1531.000000      1531.000000   \n",
       "mean            0.079033         0.232528         0.183540         0.167864   \n",
       "std             0.269879         0.422582         0.387235         0.373868   \n",
       "min             0.000000         0.000000         0.000000         0.000000   \n",
       "25%             0.000000         0.000000         0.000000         0.000000   \n",
       "50%             0.000000         0.000000         0.000000         0.000000   \n",
       "75%             0.000000         0.000000         0.000000         0.000000   \n",
       "max             1.000000         1.000000         1.000000         1.000000   \n",
       "\n",
       "       TotalChildren_3  TotalChildren_4  TotalChildren_5  BikeBuyer_0  \\\n",
       "count      1531.000000      1531.000000      1531.000000  1531.000000   \n",
       "mean          0.131940         0.163292         0.120836     0.494448   \n",
       "std           0.338536         0.369753         0.326043     0.500133   \n",
       "min           0.000000         0.000000         0.000000     0.000000   \n",
       "25%           0.000000         0.000000         0.000000     0.000000   \n",
       "50%           0.000000         0.000000         0.000000     0.000000   \n",
       "75%           0.000000         0.000000         0.000000     1.000000   \n",
       "max           1.000000         1.000000         1.000000     1.000000   \n",
       "\n",
       "       BikeBuyer_1  predicted_spend  \n",
       "count  1531.000000      1531.000000  \n",
       "mean      0.505552        76.090372  \n",
       "std       0.500133        27.902190  \n",
       "min       0.000000         5.871770  \n",
       "25%       0.000000        54.485945  \n",
       "50%       1.000000        74.465732  \n",
       "75%       1.000000        93.705281  \n",
       "max       1.000000       155.515917  \n",
       "\n",
       "[8 rows x 39 columns]"
      ]
     },
     "execution_count": 101,
     "metadata": {},
     "output_type": "execute_result"
    }
   ],
   "source": [
    "validation.describe()"
   ]
  },
  {
   "cell_type": "code",
   "execution_count": 102,
   "metadata": {},
   "outputs": [
    {
     "data": {
      "text/plain": [
       "0.8401762247362256"
      ]
     },
     "execution_count": 102,
     "metadata": {},
     "output_type": "execute_result"
    }
   ],
   "source": [
    "#from sklearn import metrics \n",
    "#0.8495368606428833\n",
    "metrics.r2_score(test_Y,predictions)"
   ]
  },
  {
   "cell_type": "code",
   "execution_count": 104,
   "metadata": {},
   "outputs": [
    {
     "data": {
      "text/plain": [
       "143.21563878982965"
      ]
     },
     "execution_count": 104,
     "metadata": {},
     "output_type": "execute_result"
    }
   ],
   "source": [
    "# The mean squared error\n",
    "# 134.82771622550237\n",
    "mse= metrics.mean_squared_error(test_Y, predictions)\n",
    "mse"
   ]
  },
  {
   "cell_type": "code",
   "execution_count": 105,
   "metadata": {},
   "outputs": [
    {
     "data": {
      "text/plain": [
       "0.8401762247362256"
      ]
     },
     "execution_count": 105,
     "metadata": {},
     "output_type": "execute_result"
    }
   ],
   "source": [
    "# Explained variance score: 1 is perfect prediction\n",
    "# 0.8495368606428834\n",
    "rsc= model.score(test_X, test_Y)\n",
    "rsc"
   ]
  },
  {
   "cell_type": "code",
   "execution_count": 106,
   "metadata": {},
   "outputs": [
    {
     "data": {
      "text/plain": [
       "0.8402018917029446"
      ]
     },
     "execution_count": 106,
     "metadata": {},
     "output_type": "execute_result"
    }
   ],
   "source": [
    "#Best possible score is 1.0, lower values are worse \n",
    "# 0.8495776331507243\n",
    "variance=metrics.explained_variance_score(test_Y, predictions)\n",
    "variance"
   ]
  },
  {
   "cell_type": "code",
   "execution_count": 107,
   "metadata": {},
   "outputs": [
    {
     "data": {
      "text/plain": [
       "9.19852488329554"
      ]
     },
     "execution_count": 107,
     "metadata": {},
     "output_type": "execute_result"
    }
   ],
   "source": [
    "#Mean absolute error regression loss \n",
    "# 8.839643298834314\n",
    "metrics.mean_absolute_error(test_Y, predictions)"
   ]
  },
  {
   "cell_type": "code",
   "execution_count": 108,
   "metadata": {},
   "outputs": [
    {
     "data": {
      "text/plain": [
       "7.332543360396244"
      ]
     },
     "execution_count": 108,
     "metadata": {},
     "output_type": "execute_result"
    }
   ],
   "source": [
    "#Median absolute error regression loss \n",
    "# 6.903340066174579\n",
    "metrics.median_absolute_error(test_Y, predictions)"
   ]
  }
 ],
 "metadata": {
  "kernelspec": {
   "display_name": "Python 3",
   "language": "python",
   "name": "python3"
  },
  "language_info": {
   "codemirror_mode": {
    "name": "ipython",
    "version": 3
   },
   "file_extension": ".py",
   "mimetype": "text/x-python",
   "name": "python",
   "nbconvert_exporter": "python",
   "pygments_lexer": "ipython3",
   "version": "3.6.4"
  }
 },
 "nbformat": 4,
 "nbformat_minor": 2
}
